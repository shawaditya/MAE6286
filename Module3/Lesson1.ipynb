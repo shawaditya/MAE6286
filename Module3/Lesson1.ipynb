{
 "cells": [
  {
   "cell_type": "code",
   "execution_count": 1,
   "metadata": {},
   "outputs": [],
   "source": [
    "import numpy\n",
    "import ipywidgets\n",
    "from matplotlib import pyplot\n",
    "\n",
    "%matplotlib inline"
   ]
  },
  {
   "cell_type": "code",
   "execution_count": 2,
   "metadata": {},
   "outputs": [],
   "source": [
    "pyplot.rc('font', family='serif',size=16)"
   ]
  },
  {
   "cell_type": "code",
   "execution_count": 3,
   "metadata": {},
   "outputs": [],
   "source": [
    "def rho_red_light(x,rho_max):\n",
    "    rho = numpy.full_like(x,rho_max)\n",
    "    #rho = rho_max*numpy.ones_like(x)\n",
    "    mask = numpy.where(x<3.0)\n",
    "    rho[mask] /= 2\n",
    "    #rho[mask]= rho_max/2\n",
    "    return rho"
   ]
  },
  {
   "cell_type": "code",
   "execution_count": 4,
   "metadata": {},
   "outputs": [],
   "source": [
    "#set parameters\n",
    "nx = 81\n",
    "L = 4.0\n",
    "dx = L/(nx-1)\n",
    "x= numpy.linspace(0.0,L,num = nx)\n",
    "\n",
    "rho_max = 10.0\n",
    "u_max = 1.0\n",
    "\n",
    "rho0 = rho_red_light(x, rho_max)"
   ]
  },
  {
   "cell_type": "code",
   "execution_count": 5,
   "metadata": {},
   "outputs": [],
   "source": [
    "def plot(n, x, rho_hist):\n",
    "    pyplot.figure()\n",
    "    pyplot.grid()\n",
    "    pyplot.title('Time Step:{}'.format(n))\n",
    "    pyplot.xlabel('Road[km]')\n",
    "    pyplot.ylabel('traffic density[cars/hr]')\n",
    "    pyplot.plot(x, rho_hist[n])\n",
    "    pyplot.xlim(x[0],x[-1])\n",
    "    pyplot.ylim(4.0,11.0)\n",
    "    pyplot.show()"
   ]
  },
  {
   "cell_type": "code",
   "execution_count": 6,
   "metadata": {},
   "outputs": [
    {
     "data": {
      "image/png": "[encoded data removed]",
      "text/plain": [
       "<Figure size 432x288 with 1 Axes>"
      ]
     },
     "metadata": {
      "needs_background": "light"
     },
     "output_type": "display_data"
    }
   ],
   "source": [
    "plot(0,x,[rho0])"
   ]
  },
  {
   "cell_type": "code",
   "execution_count": 7,
   "metadata": {},
   "outputs": [],
   "source": [
    "def traffic_speed(rho,u_max,rho_max):\n",
    "    return u_max*(1-rho/rho_max)\n",
    "def traffic_flux(rho,u_max,rho_max):\n",
    "    return rho*traffic_speed(rho,u_max,rho_max)"
   ]
  },
  {
   "cell_type": "code",
   "execution_count": 8,
   "metadata": {},
   "outputs": [],
   "source": [
    "def interactive_plot(x,rho_hist):\n",
    "    nt = len(rho_hist) - 1\n",
    "    nt_slider = ipywidgets.IntSlider(value=0, min=0, max=nt, step=1,\n",
    "                                    description='Time Step')\n",
    "    w = ipywidgets.interactive(plot,n=nt_slider,x=ipywidgets.fixed(x),\n",
    "                              rho_hist = ipywidgets.fixed(rho_hist))\n",
    "    return w"
   ]
  },
  {
   "cell_type": "code",
   "execution_count": 9,
   "metadata": {},
   "outputs": [
    {
     "data": {
      "application/vnd.jupyter.widget-view+json": {
       "model_id": "72b525ade12d4af2af7275a5294dd699",
       "version_major": 2,
       "version_minor": 0
      },
      "text/plain": [
       "interactive(children=(IntSlider(value=0, description='Time Step', max=0), Output()), _dom_classes=('widget-int…"
      ]
     },
     "metadata": {},
     "output_type": "display_data"
    }
   ],
   "source": [
    "interactive_plot(x,[rho0])"
   ]
  },
  {
   "cell_type": "markdown",
   "metadata": {},
   "source": [
    "def lax_fredrichs(rho0,nt,dt,dx,u_max,rho_max):\n",
    "    \n",
    "    rho_hist = rho0.copy()\n",
    "    for n in range (nt):\n",
    "        rho = rho0.copy()\n",
    "        for i in range (1,nx-1):\n",
    "            rho0[i] = 0.5*(rho[i+1]+rho[i-1]) - (2dt/dx)*[traffic_flux(rho[i+1],u_max,rho_max) \n",
    "                                               -traffic_flux(rho[i-1],u_max,rho_max)]\n",
    "        rho_hist.append(rho0)\n",
    "    return rho_hist\n",
    "    "
   ]
  },
  {
   "cell_type": "code",
   "execution_count": 10,
   "metadata": {},
   "outputs": [],
   "source": [
    "def lax_fredrichs(rho0,nt,dt,dx,u_max,rho_max):\n",
    "    rho_hist = [rho0.copy()] # to convert into list of rho0\n",
    "    rho = rho0.copy()\n",
    "    nx = len(rho0)\n",
    "    nx = rho0.size\n",
    "    for n in range (nt):\n",
    "        rhon = rho.copy()\n",
    "        F = traffic_flux(rhon,u_max,rho_max)\n",
    "        for i in range (1, nx-1):\n",
    "            rho[i] = 0.5*(rhon[i+1]+rhon[i-1]) - (dt/(2*dx))*(F[i+1]-F[i-1])\n",
    "        \n",
    "        rho_hist.append(rho.copy())\n",
    "    return rho_hist"
   ]
  },
  {
   "cell_type": "code",
   "execution_count": 11,
   "metadata": {},
   "outputs": [
    {
     "data": {
      "application/vnd.jupyter.widget-view+json": {
       "model_id": "68c78d77d76449829b998330462eca81",
       "version_major": 2,
       "version_minor": 0
      },
      "text/plain": [
       "interactive(children=(IntSlider(value=0, description='Time Step', max=80), Output()), _dom_classes=('widget-in…"
      ]
     },
     "metadata": {},
     "output_type": "display_data"
    }
   ],
   "source": [
    "nt = 80\n",
    "\n",
    "sigma = 0.5\n",
    "\n",
    "dt = sigma * dx / u_max\n",
    "\n",
    "\n",
    "\n",
    "rho_hist = lax_fredrichs(rho0, nt, dt, dx, u_max, rho_max)\n",
    "\n",
    "interactive_plot(x,rho_hist)"
   ]
  },
  {
   "cell_type": "code",
   "execution_count": 13,
   "metadata": {},
   "outputs": [
    {
     "data": {
      "application/vnd.jupyter.widget-view+json": {
       "model_id": "3e15311892c14343940df7212d4d0ad7",
       "version_major": 2,
       "version_minor": 0
      },
      "text/plain": [
       "interactive(children=(IntSlider(value=0, description='Time Step', max=40), Output()), _dom_classes=('widget-in…"
      ]
     },
     "metadata": {},
     "output_type": "display_data"
    }
   ],
   "source": [
    "nt = 40\n",
    "sigma = 0.5\n",
    "dt = sigma * dx / u_max\n",
    "\n",
    "rho_hist = lax_fredrichs(rho0, nt, dt, dx, u_max, rho_max)\n",
    "interactive_plot(x,rho_hist)\n"
   ]
  },
  {
   "cell_type": "code",
   "execution_count": 14,
   "metadata": {},
   "outputs": [],
   "source": [
    "def traffic_jacobian(rho,u_max,rho_max):\n",
    "    J = u_max*(1-2*rho/rho_max)\n",
    "    return J\n",
    "\n",
    "def lax_wendroff(rho0, nt, dt, dx, u_max, rho_max):\n",
    "    rho_hist = [rho0.copy()]\n",
    "    rho = rho0.copy()\n",
    "    nx = len(rho0)\n",
    "    nx = rho0.size\n",
    "    for n in range(nt):\n",
    "        rhon = rho.copy()\n",
    "        F = traffic_flux(rhon,u_max,rho_max)\n",
    "        J = traffic_jacobian(rhon,u_max,rho_max)\n",
    "        for i in range(1,nx-1):\n",
    "            rho[i] = rhon[i] - (dt/(2*dx)) * (F[i+1]-F[i-1]) + (dt**2/(4*dx**2))*((J[i]+J[i+1])*(F[i+1]-F[i])\n",
    "                                                                                  -(J[i-1]+J[i])*(F[i]-F[i-1]))\n",
    "                                                                \n",
    "        rho_hist.append(rho.copy())                                                                     \n",
    "    \n",
    "    return rho_hist\n",
    "    "
   ]
  },
  {
   "cell_type": "code",
   "execution_count": 15,
   "metadata": {},
   "outputs": [
    {
     "data": {
      "application/vnd.jupyter.widget-view+json": {
       "model_id": "b832c538eaa44d8792ff28b05664e8e7",
       "version_major": 2,
       "version_minor": 0
      },
      "text/plain": [
       "interactive(children=(IntSlider(value=0, description='Time Step', max=40), Output()), _dom_classes=('widget-in…"
      ]
     },
     "metadata": {},
     "output_type": "display_data"
    }
   ],
   "source": [
    "nt = 40\n",
    "sigma = 0.5\n",
    "dt = sigma * dx / u_max\n",
    "\n",
    "rho_hist = lax_wendroff(rho0, nt, dt, dx, u_max, rho_max)\n",
    "interactive_plot(x,rho_hist)\n"
   ]
  },
  {
   "cell_type": "code",
   "execution_count": 16,
   "metadata": {},
   "outputs": [
    {
     "data": {
      "application/vnd.jupyter.widget-view+json": {
       "model_id": "a8e0dc60a024474ebc46dc7567c550de",
       "version_major": 2,
       "version_minor": 0
      },
      "text/plain": [
       "interactive(children=(IntSlider(value=0, description='Time Step', max=80), Output()), _dom_classes=('widget-in…"
      ]
     },
     "metadata": {},
     "output_type": "display_data"
    }
   ],
   "source": [
    "nt = 80\n",
    "sigma = 0.5\n",
    "dt = sigma * dx / u_max\n",
    "\n",
    "rho_hist = lax_wendroff(rho0, nt, dt, dx, u_max, rho_max)\n",
    "interactive_plot(x,rho_hist)"
   ]
  },
  {
   "cell_type": "code",
   "execution_count": 19,
   "metadata": {},
   "outputs": [],
   "source": [
    "def maccormack(rho0, nt, dt, dx, bc_values, *args):\n",
    "    \n",
    "    rho_hist = [rho0.copy()]\n",
    "    rho = rho0.copy()\n",
    "    rho_star = rho.copy()\n",
    "    for n in range(nt):\n",
    "        \n",
    "        F = traffic_flux(rho, *args)\n",
    "        \n",
    "        rho_star[1:-1] = (rho[1:-1] -\n",
    "                          dt / dx * (F[2:] - F[1:-1]))\n",
    "        \n",
    "        F = traffic_flux(rho_star, *args)\n",
    "        \n",
    "        rho[1:-1] = 0.5 * (rho[1:-1] + rho_star[1:-1] -\n",
    "                           dt / dx * (F[1:-1] - F[:-2]))\n",
    "        \n",
    "        rho[0] = bc_values[0]\n",
    "        \n",
    "        rho[-1] = bc_values[1]\n",
    "        \n",
    "        rho_hist.append(rho.copy())\n",
    "    return rho_hist"
   ]
  },
  {
   "cell_type": "code",
   "execution_count": 22,
   "metadata": {},
   "outputs": [
    {
     "data": {
      "application/vnd.jupyter.widget-view+json": {
       "model_id": "e9838bce54014532867b24f09cdc847a",
       "version_major": 2,
       "version_minor": 0
      },
      "text/plain": [
       "interactive(children=(IntSlider(value=0, description='Time Step', max=80), Output()), _dom_classes=('widget-in…"
      ]
     },
     "metadata": {},
     "output_type": "display_data"
    }
   ],
   "source": [
    "sigma = 1.0\n",
    "dt = sigma * dx / u_max  \n",
    "\n",
    "\n",
    "rho_hist = maccormack(rho0, nt, dt, dx, (rho0[0], rho0[-1]),u_max, rho_max)\n",
    "interactive_plot(x,rho_hist)"
   ]
  },
  {
   "cell_type": "code",
   "execution_count": null,
   "metadata": {},
   "outputs": [],
   "source": []
  }
 ],
 "metadata": {
  "kernelspec": {
   "display_name": "Python 3",
   "language": "python",
   "name": "python3"
  },
  "language_info": {
   "codemirror_mode": {
    "name": "ipython",
    "version": 3
   },
   "file_extension": ".py",
   "mimetype": "text/x-python",
   "name": "python",
   "nbconvert_exporter": "python",
   "pygments_lexer": "ipython3",
   "version": "3.7.3"
  }
 },
 "nbformat": 4,
 "nbformat_minor": 2
}
