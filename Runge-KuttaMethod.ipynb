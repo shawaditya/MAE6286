{
 "cells": [
  {
   "cell_type": "code",
   "execution_count": 5,
   "metadata": {},
   "outputs": [],
   "source": [
    "import numpy\n",
    "from matplotlib import pyplot"
   ]
  },
  {
   "cell_type": "code",
   "execution_count": 6,
   "metadata": {},
   "outputs": [],
   "source": [
    "# gravity acceleration; unit: m/s^2\n",
    "g = 9.81\n",
    "\n",
    "# drag coefficient; dimensionless\n",
    "CD = 1.0/40.0\n",
    "\n",
    "# drag coefficient; dimensionless\n",
    "CL = 1.0\n",
    "\n",
    "# trim velocity; unit: m / s\n",
    "vt = 30.0"
   ]
  },
  {
   "cell_type": "code",
   "execution_count": 22,
   "metadata": {},
   "outputs": [
    {
     "data": {
      "text/plain": [
       "'\\nu_temp is a 1D array it not neccessary to create it. But i did :\"\\n\\n'"
      ]
     },
     "execution_count": 22,
     "metadata": {},
     "output_type": "execute_result"
    }
   ],
   "source": [
    "vt2 = vt**2\n",
    "\n",
    "# velocity at t = 0s; unit: m / s\n",
    "v0 = vt\n",
    "\n",
    "# angle between trajectory and horizontal at t = 0s; unit: rad\n",
    "theta0 = 0.0\n",
    "\n",
    "# x-coordinate at t = 0s; unit: m\n",
    "x0 = 0.0\n",
    "\n",
    "# y-coordinate at t = 0s; unit: m\n",
    "y0 = 1000\n",
    "\n",
    "# final T\n",
    "T = 100.0\n",
    "\n",
    "# time step\n",
    "dt = 0.1\n",
    "\n",
    "# the number of time steps from t=0 to t=100\n",
    "N = 1 + int(T/dt)\n",
    "\n",
    "# an array to hold variables at each time point\n",
    "u = numpy.zeros([N,4])\n",
    "\n",
    "# assign v0 to the correct index in u\n",
    "u[0,0] = v0\n",
    "\n",
    "# assign theta0 to the correct index in u\n",
    "u[0,1] = theta0\n",
    "\n",
    "# assign x0 to the correct index in u\n",
    "u[0,2] = x0\n",
    "\n",
    "# assign y0 to the correct index in u\n",
    "u[0,3] = y0\n",
    "\"\"\"\n",
    "u_temp is a 1D array it not neccessary to create it. But i did :\"\n",
    "\n",
    "\"\"\"\n",
    "# for temp u function\n",
    "u_temp = numpy.zeros([N,4])\n",
    "\n",
    "# assign v0 to the correct index in u\n",
    "u_temp[0,0] = v0\n",
    "\n",
    "# assign theta0 to the correct index in u\n",
    "u_temp[0,1] = theta0\n",
    "\n",
    "# assign x0 to the correct index in u\n",
    "u_temp[0,2] = x0\n",
    "\n",
    "# assign y0 to the correct index in u\n",
    "u_temp[0,3] = y0"
   ]
  },
  {
   "cell_type": "code",
   "execution_count": 23,
   "metadata": {},
   "outputs": [],
   "source": [
    "# iteration through Euler method\n",
    "# the loop should loop through n=0, 1, 2, ..., N-2\n",
    "for n in range(N-1):\n",
    "\n",
    "    # extract v at the n-th time point from the array u\n",
    "    v_n = u[n,0] \n",
    "    \n",
    "    # extract theta at the n-th time point from the array u\n",
    "    theta_n = u[n,1]\n",
    "    \n",
    "    # extract x at the n-th time point from the array u\n",
    "    x_n = u[n,2]\n",
    "    \n",
    "    # extract y at the n-th time point from the array u\n",
    "    y_n = u[n,3]\n",
    "\n",
    "   \n",
    "    # f(u^n) in the right-hand-side\n",
    "    f_n = numpy.array([\n",
    "        -g*numpy.sin(theta_n)-(CD/CL)*(g*(v_n/vt)**2),\n",
    "        -(g/v_n)*numpy.cos(theta_n)+((g/v_n)*(v_n/vt)**2),\n",
    "        v_n*numpy.cos(theta_n),\n",
    "        v_n*numpy.sin(theta_n)\n",
    "    ])\n",
    "    \n",
    "    u_temp = u[n] + dt/2 * f_n\n",
    "    \n",
    "    # extract v at the n-th time point from the array u\n",
    "    v_temp = u_temp[0]\n",
    "    \n",
    "    # extract theta at the n-th time point from the array u\n",
    "    theta_temp = u_temp[1]\n",
    "    \n",
    "    # extract x at the n-th time point from the array u\n",
    "    x_temp = u_temp[2]\n",
    "    \n",
    "    # extract y at the n-th time point from the array u\n",
    "    y_temp = u_temp[3]\n",
    "    \n",
    "    f_ntemp = numpy.array([\n",
    "        -g*numpy.sin(theta_temp)-(CD/CL)*(g*(v_temp/vt)**2),\n",
    "        -(g/v_temp)*numpy.cos(theta_temp)+((g/v_temp)*(v_temp/vt)**2),\n",
    "        v_temp*numpy.cos(theta_temp),\n",
    "        v_temp*numpy.sin(theta_temp)\n",
    "    ])\n",
    "\n",
    "    # update values at n+1 by Euler method: u^{n+1} = u^{n} + dt * f(u^{n})\n",
    "    u[n+1] = u_temp + dt * f_ntemp"
   ]
  },
  {
   "cell_type": "code",
   "execution_count": 24,
   "metadata": {},
   "outputs": [
    {
     "data": {
      "text/plain": [
       "[<matplotlib.lines.Line2D at 0x7f031f512278>]"
      ]
     },
     "execution_count": 24,
     "metadata": {},
     "output_type": "execute_result"
    },
    {
     "data": {
      "image/png": "[encoded data removed]",
      "text/plain": [
       "<Figure size 432x288 with 1 Axes>"
      ]
     },
     "metadata": {},
     "output_type": "display_data"
    }
   ],
   "source": [
    "% matplotlib inline\n",
    "\n",
    "pyplot.plot(u[:,2], u[:,3])"
   ]
  },
  {
   "cell_type": "code",
   "execution_count": null,
   "metadata": {},
   "outputs": [],
   "source": []
  }
 ],
 "metadata": {
  "kernelspec": {
   "display_name": "Python 3",
   "language": "python",
   "name": "python3"
  },
  "language_info": {
   "codemirror_mode": {
    "name": "ipython",
    "version": 3
   },
   "file_extension": ".py",
   "mimetype": "text/x-python",
   "name": "python",
   "nbconvert_exporter": "python",
   "pygments_lexer": "ipython3",
   "version": "3.6.2"
  }
 },
 "nbformat": 4,
 "nbformat_minor": 2
}
